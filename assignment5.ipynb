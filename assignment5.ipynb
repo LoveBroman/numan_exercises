{
 "cells": [
  {
   "cell_type": "code",
   "execution_count": 1,
   "id": "initial_id",
   "metadata": {
    "collapsed": true,
    "ExecuteTime": {
     "end_time": "2024-02-22T06:46:33.331216Z",
     "start_time": "2024-02-22T06:46:33.218454Z"
    }
   },
   "outputs": [],
   "source": [
    "from least_squares import *\n",
    "import numpy as np"
   ]
  },
  {
   "cell_type": "code",
   "outputs": [
    {
     "name": "stdout",
     "output_type": "stream",
     "text": [
      "[ 6.65455483e+04  2.46013947e+03 -3.18229021e+02  1.82130925e+01]\n",
      "\n",
      "\n",
      "----------------------\n",
      "[66545.54825175 68705.67179488 70338.61585082 71553.65897436\n",
      " 72460.07972028 73167.15664336 73784.16829837 74420.3932401\n",
      " 75185.11002331 76187.5972028 ] A @ x, MSE: 574336.2074358992\n",
      "235499.66946364933 prediction\n"
     ]
    }
   ],
   "source": [
    "#1)\n",
    "d= 3\n",
    "def pol_deg(x, d):\n",
    "    return np.array([x**i for i in range(d+1)])\n",
    "\n",
    "data = np.array([1994 + i for i in range(10)])\n",
    "data = data - 1994\n",
    "y = np.array([67_052, 68_008, 69_803, 72_024, 73_400, 72_063, 74_669, 74_487, 74_065, 76_777])\n",
    "\n",
    "\n",
    "A = np.zeros((len(data), 4))\n",
    "for i in range(len(A)):\n",
    "    A[i,:] = pol_deg(data[i], d)\n",
    "\n",
    "x = least_squares(A, y)\n",
    "print(x)\n",
    "print(\"\\n\\n----------------------\")\n",
    "print((A @ x), f\"A @ x, MSE: {sum((A @ x - y) ** 2) / 10}\", )\n",
    "\n",
    "apred = pol_deg(26, d)\n",
    "print(apred @ x, \"prediction\")\n"
   ],
   "metadata": {
    "collapsed": false,
    "ExecuteTime": {
     "end_time": "2024-02-22T07:15:24.177821Z",
     "start_time": "2024-02-22T07:15:24.169661Z"
    }
   },
   "id": "b7ed808d7bbce41b",
   "execution_count": 6
  },
  {
   "cell_type": "code",
   "outputs": [
    {
     "name": "stdout",
     "output_type": "stream",
     "text": [
      "[[ 1.00000000e+00  9.02056208e-17  2.49800181e-16  5.55111512e-17]\n",
      " [ 9.02056208e-17  1.00000000e+00 -1.38777878e-17 -1.38777878e-16]\n",
      " [ 2.49800181e-16 -1.38777878e-17  1.00000000e+00 -1.11022302e-16]\n",
      " [ 5.55111512e-17 -1.38777878e-16 -1.11022302e-16  1.00000000e+00]]\n",
      "4.134905572012118\n"
     ]
    }
   ],
   "source": [
    "A = np.array([[4, 2, 3, 0], \n",
    "              [-2, 3, -1, 1], \n",
    "              [1, 3, -4, 2], \n",
    "              [3, 1, 3, 2]])\n",
    "\n",
    "Q, R, Y = QR(A, True)\n",
    "print(Q.T @ Q)\n",
    "print(np.linalg.norm(Y[:,2]))\n"
   ],
   "metadata": {
    "collapsed": false,
    "ExecuteTime": {
     "end_time": "2024-02-22T06:46:51.216090Z",
     "start_time": "2024-02-22T06:46:51.206659Z"
    }
   },
   "id": "fbf67b691d66bed7",
   "execution_count": 4
  },
  {
   "cell_type": "code",
   "outputs": [
    {
     "name": "stdout",
     "output_type": "stream",
     "text": [
      "[1.00000131 1.00000009 0.99999956 1.00000016 0.99999999 1.        ]\n",
      "201190.46946346734\n"
     ]
    }
   ],
   "source": [
    "#3)\n",
    "def cond(A):\n",
    "    helper = lambda A: abs(A).sum(axis=1).max()\n",
    "    return helper(A) * helper(np.linalg.inv(A))\n",
    "\n",
    "d = 5\n",
    "ygen = np.vectorize(lambda x: sum(pol_deg(x, d)))\n",
    "\n",
    "x = np.linspace(1, 4, 12)\n",
    "ys = ygen(x)\n",
    "A = np.zeros((12, 6))\n",
    "# for i in range(len(x)):\n",
    "A = pol_deg(x, d).T\n",
    "Q, R = QR(A)\n",
    "x = least_squares(R, Q.T @ ys)\n",
    "print(x)\n",
    "print(cond(R))"
   ],
   "metadata": {
    "collapsed": false,
    "ExecuteTime": {
     "end_time": "2024-02-22T07:35:11.439819Z",
     "start_time": "2024-02-22T07:35:11.430054Z"
    }
   },
   "id": "c2c376662aa2e8bf",
   "execution_count": 17
  },
  {
   "cell_type": "code",
   "outputs": [],
   "source": [
    "#4)\n",
    "\n",
    "#Answer: 0\n",
    "\n",
    "#5) F, F, T, F, F\n"
   ],
   "metadata": {
    "collapsed": false,
    "ExecuteTime": {
     "end_time": "2024-02-22T07:21:43.489353Z",
     "start_time": "2024-02-22T07:21:43.473734Z"
    }
   },
   "id": "50f685458740cf0e",
   "execution_count": 13
  },
  {
   "cell_type": "code",
   "outputs": [],
   "source": [],
   "metadata": {
    "collapsed": false
   },
   "id": "470299fb67996405"
  }
 ],
 "metadata": {
  "kernelspec": {
   "name": "venv",
   "language": "python",
   "display_name": "Python (venv)"
  },
  "language_info": {
   "codemirror_mode": {
    "name": "ipython",
    "version": 2
   },
   "file_extension": ".py",
   "mimetype": "text/x-python",
   "name": "python",
   "nbconvert_exporter": "python",
   "pygments_lexer": "ipython2",
   "version": "2.7.6"
  }
 },
 "nbformat": 4,
 "nbformat_minor": 5
}
